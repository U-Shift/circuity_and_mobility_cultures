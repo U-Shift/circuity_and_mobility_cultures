{
 "cells": [
  {
   "cell_type": "code",
   "execution_count": null,
   "metadata": {},
   "outputs": [],
   "source": [
    "import folium\n",
    "import keplergl\n",
    "import json\n",
    "import geopandas as gpd\n",
    "import pandas as pd\n",
    "import osmnx as ox\n",
    "from glob import glob\n",
    "\n",
    "from tqdm.notebook import trange, tqdm"
   ]
  },
  {
   "cell_type": "markdown",
   "metadata": {},
   "source": [
    "Read file containing the cities polygons"
   ]
  },
  {
   "cell_type": "code",
   "execution_count": null,
   "metadata": {},
   "outputs": [],
   "source": [
    "cities_gdf = gpd.read_file(\"cities/Case_studies_limits_final.shp\")"
   ]
  },
  {
   "cell_type": "markdown",
   "metadata": {},
   "source": [
    "Extract the selected entries corresponding to the selected cities"
   ]
  },
  {
   "cell_type": "code",
   "execution_count": null,
   "metadata": {},
   "outputs": [],
   "source": [
    "cities = list(cities_gdf['Name'])"
   ]
  },
  {
   "cell_type": "code",
   "execution_count": null,
   "metadata": {},
   "outputs": [],
   "source": [
    "cities"
   ]
  },
  {
   "cell_type": "markdown",
   "metadata": {},
   "source": [
    "Iterate through the cities and sample points"
   ]
  },
  {
   "cell_type": "code",
   "execution_count": null,
   "metadata": {},
   "outputs": [],
   "source": [
    "for city_name in cities:\n",
    "    print('City: ', city_name, '__')\n",
    "    # ox.graph_from_place does not work for Copenhagen. Use different function\n",
    "    if city_name == 'Copenhagen':\n",
    "        continue\n",
    "        G = ox.graph_from_polygon(cities_gdf.iloc[16]['geometry'],\n",
    "                        network_type='drive')\n",
    "    \n",
    "    else:\n",
    "        if city_name != 'London':\n",
    "            continue\n",
    "        \n",
    "        G = ox.graph_from_place(city_name,\n",
    "                                network_type='drive')\n",
    "    \n",
    "    G_proj = ox.project_graph(G)\n",
    "    total_drive_length = ox.basic_stats(G_proj, clean_intersects=True, circuity_dist='euclidean')['edge_length_total']\n",
    "    print('\\tTotal length of the road network:', total_drive_length)\n",
    "    \n",
    "    n_points = int((total_drive_length/1000) * 10)\n",
    "    print('\\tNumber of points to be estimated:', n_points)\n",
    "    break\n",
    "    points = ox.utils_geo.sample_points(ox.get_undirected(G), n_points*2)\n",
    "    \n",
    "    data = pd.DataFrame()\n",
    "    data[\"Longitude_A\"] = points[:int(n_points)].reset_index(drop=True).x\n",
    "    data[\"Latitude_A\"]  = points[:int(n_points)].reset_index(drop=True).y\n",
    "    data[\"Longitude_B\"] = points[int(n_points):].reset_index(drop=True).x\n",
    "    data[\"Latitude_B\"]  = points[int(n_points):].reset_index(drop=True).y\n",
    "    print('\\tData shape: ', data.shape)\n",
    "    \n",
    "    data.to_csv('city_points-on_streets/points_{}.csv'.format(city_name))"
   ]
  },
  {
   "cell_type": "markdown",
   "metadata": {},
   "source": [
    "Confirm output files"
   ]
  },
  {
   "cell_type": "code",
   "execution_count": null,
   "metadata": {},
   "outputs": [],
   "source": [
    "for csv_file in sorted(glob('city_points-on_streets/*.csv')):\n",
    "       print('File:', csv_file.ljust(50), 'City:', csv_file.split('_')[-1].replace('.csv', '').ljust(20),'Points:', pd.read_csv(csv_file).shape[0])"
   ]
  },
  {
   "cell_type": "markdown",
   "metadata": {},
   "source": [
    "Read one csv output and plot the points"
   ]
  },
  {
   "cell_type": "code",
   "execution_count": null,
   "metadata": {},
   "outputs": [],
   "source": [
    "data = pd.read_csv('city_points-on_streets/points_{}.csv'.format('Copenhagen'))\n",
    "print('Total number of points sampled:', data.shape[0])"
   ]
  },
  {
   "cell_type": "code",
   "execution_count": null,
   "metadata": {},
   "outputs": [],
   "source": [
    "points_to_draw = 1500\n",
    "m = folium.Map(location=[data['Latitude_A'].mean(), data['Longitude_A'].mean()], zoom_start=7, tiles='CartoDB positron')\n",
    "\n",
    "for _, row in data[:points_to_draw].iterrows():\n",
    "    folium.CircleMarker([row['Latitude_A'], row['Longitude_A']],\n",
    "                       radius=2).add_to(m)\n",
    "m"
   ]
  }
 ],
 "metadata": {
  "kernelspec": {
   "display_name": "Python 3 (ipykernel)",
   "language": "python",
   "name": "python3"
  },
  "language_info": {
   "codemirror_mode": {
    "name": "ipython",
    "version": 3
   },
   "file_extension": ".py",
   "mimetype": "text/x-python",
   "name": "python",
   "nbconvert_exporter": "python",
   "pygments_lexer": "ipython3",
   "version": "3.9.10"
  }
 },
 "nbformat": 4,
 "nbformat_minor": 4
}
