{
 "cells": [
  {
   "cell_type": "markdown",
   "metadata": {},
   "source": [
    "# 0. Extract map segments for the selected cities"
   ]
  },
  {
   "cell_type": "code",
   "execution_count": null,
   "metadata": {},
   "outputs": [],
   "source": [
    "import geopandas as gpd\n",
    "import json\n",
    "import unidecode"
   ]
  },
  {
   "cell_type": "markdown",
   "metadata": {},
   "source": [
    "Read file containing the cities polygons"
   ]
  },
  {
   "cell_type": "code",
   "execution_count": null,
   "metadata": {},
   "outputs": [],
   "source": [
    "cities_gdf = gpd.read_file(\"cities/Case_studies_limits_final.shp\")\n",
    "cities_gdf"
   ]
  },
  {
   "cell_type": "markdown",
   "metadata": {},
   "source": [
    "Define function to compute bounding boxes"
   ]
  },
  {
   "cell_type": "code",
   "execution_count": null,
   "metadata": {},
   "outputs": [],
   "source": [
    "def get_command_bbox(cities, input_file):\n",
    "    for index, city in cities.iterrows():\n",
    "        city_name = unidecode.unidecode(city['Name'].lower())\n",
    "        minx, miny, maxx, maxy = city['geometry'].bounds\n",
    "        left   = minx - 0.2\n",
    "        right  = maxx + 0.2\n",
    "        bottom = miny - 0.2\n",
    "        top    = maxy + 0.2\n",
    "        output_file = 'cities/' + city_name + '.osm.pbf'\n",
    "\n",
    "        print('osmium extract --bbox {},{},{},{} {} -o {}'.format(left, bottom,\n",
    "                                                                  right, top, \n",
    "                                                                  input_file, output_file), '\\n')\n"
   ]
  },
  {
   "cell_type": "code",
   "execution_count": null,
   "metadata": {},
   "outputs": [],
   "source": [
    "default_path = 'cities/map_extracts/'"
   ]
  },
  {
   "cell_type": "markdown",
   "metadata": {},
   "source": [
    "To download country-wide .osm.pbf you can use the following command:\n",
    "\n",
    "`wget http://download.geofabrik.de/{COUNTRY_NAME}-latest.osm.pbf`\n",
    "\n",
    "e.g.,\n",
    "\n",
    "`wget http://download.geofabrik.de/portugal-latest.osm.pbf`"
   ]
  },
  {
   "cell_type": "markdown",
   "metadata": {},
   "source": [
    "### Portugal Cities"
   ]
  },
  {
   "cell_type": "code",
   "execution_count": null,
   "metadata": {},
   "outputs": [],
   "source": [
    "input_file = default_path + 'portugal-latest.osm.pbf'\n",
    "\n",
    "sample_cities_gdf = cities_gdf[cities_gdf.Country == 'Portugal']\n",
    "display(sample_cities_gdf)\n",
    "\n",
    "get_command_bbox(sample_cities_gdf, input_file)"
   ]
  },
  {
   "cell_type": "markdown",
   "metadata": {},
   "source": [
    "### Spain Cities"
   ]
  },
  {
   "cell_type": "code",
   "execution_count": null,
   "metadata": {},
   "outputs": [],
   "source": [
    "input_file = default_path + 'spain-latest.osm.pbf'\n",
    "\n",
    "sample_cities_gdf = cities_gdf[cities_gdf.Country == 'Spain']\n",
    "display(sample_cities_gdf)\n",
    "\n",
    "get_command_bbox(sample_cities_gdf, input_file)"
   ]
  },
  {
   "cell_type": "markdown",
   "metadata": {},
   "source": [
    "### Italy Cities"
   ]
  },
  {
   "cell_type": "code",
   "execution_count": null,
   "metadata": {},
   "outputs": [],
   "source": [
    "input_file = default_path + 'italy-latest.osm.pbf'\n",
    "\n",
    "sample_cities_gdf = cities_gdf[cities_gdf.Country == 'Italy']\n",
    "display(sample_cities_gdf)\n",
    "\n",
    "get_command_bbox(sample_cities_gdf, input_file)"
   ]
  },
  {
   "cell_type": "markdown",
   "metadata": {},
   "source": [
    "### Lithuania Cities"
   ]
  },
  {
   "cell_type": "code",
   "execution_count": null,
   "metadata": {},
   "outputs": [],
   "source": [
    "input_file = default_path + 'lithuania-latest.osm.pbf'\n",
    "\n",
    "sample_cities_gdf = cities_gdf[cities_gdf.Country == 'Lithuania']\n",
    "display(sample_cities_gdf)\n",
    "\n",
    "get_command_bbox(sample_cities_gdf, input_file)"
   ]
  },
  {
   "cell_type": "markdown",
   "metadata": {},
   "source": [
    "### Belarus Cities"
   ]
  },
  {
   "cell_type": "code",
   "execution_count": null,
   "metadata": {},
   "outputs": [],
   "source": [
    "input_file = default_path + 'belarus-latest.osm.pbf'\n",
    "\n",
    "sample_cities_gdf = cities_gdf[cities_gdf.Country == 'Belarus']\n",
    "display(sample_cities_gdf)\n",
    "\n",
    "get_command_bbox(sample_cities_gdf, input_file)"
   ]
  },
  {
   "cell_type": "markdown",
   "metadata": {},
   "source": [
    "### Sweden Cities"
   ]
  },
  {
   "cell_type": "code",
   "execution_count": null,
   "metadata": {},
   "outputs": [],
   "source": [
    "input_file = default_path + 'sweden-latest.osm.pbf'\n",
    "\n",
    "sample_cities_gdf = cities_gdf[cities_gdf.Country == 'Sweden']\n",
    "display(sample_cities_gdf)\n",
    "\n",
    "get_command_bbox(sample_cities_gdf, input_file)"
   ]
  },
  {
   "cell_type": "markdown",
   "metadata": {},
   "source": [
    "### Norway Cities"
   ]
  },
  {
   "cell_type": "code",
   "execution_count": null,
   "metadata": {},
   "outputs": [],
   "source": [
    "input_file = default_path + 'norway-latest.osm.pbf'\n",
    "\n",
    "sample_cities_gdf = cities_gdf[cities_gdf.Country == 'Norway']\n",
    "display(sample_cities_gdf)\n",
    "\n",
    "get_command_bbox(sample_cities_gdf, input_file)"
   ]
  },
  {
   "cell_type": "markdown",
   "metadata": {},
   "source": [
    "### Denmark Cities"
   ]
  },
  {
   "cell_type": "code",
   "execution_count": null,
   "metadata": {},
   "outputs": [],
   "source": [
    "input_file = default_path + 'denmark-latest.osm.pbf'\n",
    "\n",
    "sample_cities_gdf = cities_gdf[cities_gdf.Country == 'Denmark']\n",
    "display(sample_cities_gdf)\n",
    "\n",
    "get_command_bbox(sample_cities_gdf, input_file)"
   ]
  },
  {
   "cell_type": "markdown",
   "metadata": {},
   "source": [
    "### Romania Cities"
   ]
  },
  {
   "cell_type": "code",
   "execution_count": null,
   "metadata": {},
   "outputs": [],
   "source": [
    "input_file = default_path + 'romania-latest.osm.pbf'\n",
    "\n",
    "sample_cities_gdf = cities_gdf[cities_gdf.Country == 'Romania']\n",
    "display(sample_cities_gdf)\n",
    "\n",
    "get_command_bbox(sample_cities_gdf, input_file)"
   ]
  },
  {
   "cell_type": "markdown",
   "metadata": {},
   "source": [
    "### Poland Cities"
   ]
  },
  {
   "cell_type": "code",
   "execution_count": null,
   "metadata": {},
   "outputs": [],
   "source": [
    "input_file = default_path + 'poland-latest.osm.pbf'\n",
    "\n",
    "sample_cities_gdf = cities_gdf[cities_gdf.Country == 'Poland']\n",
    "display(sample_cities_gdf)\n",
    "\n",
    "get_command_bbox(sample_cities_gdf, input_file)"
   ]
  },
  {
   "cell_type": "markdown",
   "metadata": {},
   "source": [
    "### The Netherlands Cities"
   ]
  },
  {
   "cell_type": "code",
   "execution_count": null,
   "metadata": {},
   "outputs": [],
   "source": [
    "input_file = default_path + 'netherlands-latest.osm.pbf'\n",
    "\n",
    "sample_cities_gdf = cities_gdf[cities_gdf.Country == 'The Netherlands']\n",
    "display(sample_cities_gdf)\n",
    "\n",
    "get_command_bbox(sample_cities_gdf, input_file)"
   ]
  },
  {
   "cell_type": "markdown",
   "metadata": {},
   "source": [
    "### Hungary Cities"
   ]
  },
  {
   "cell_type": "code",
   "execution_count": null,
   "metadata": {},
   "outputs": [],
   "source": [
    "input_file = default_path + 'hungary-latest.osm.pbf'\n",
    "\n",
    "sample_cities_gdf = cities_gdf[cities_gdf.Country == 'Hungary']\n",
    "display(sample_cities_gdf)\n",
    "\n",
    "get_command_bbox(sample_cities_gdf, input_file)"
   ]
  },
  {
   "cell_type": "markdown",
   "metadata": {},
   "source": [
    "### France Cities"
   ]
  },
  {
   "cell_type": "code",
   "execution_count": null,
   "metadata": {},
   "outputs": [],
   "source": [
    "input_file = default_path + 'france-latest.osm.pbf'\n",
    "\n",
    "sample_cities_gdf = cities_gdf[cities_gdf.Country == 'France']\n",
    "display(sample_cities_gdf)\n",
    "\n",
    "get_command_bbox(sample_cities_gdf, input_file)"
   ]
  },
  {
   "cell_type": "markdown",
   "metadata": {},
   "source": [
    "### Finland Cities"
   ]
  },
  {
   "cell_type": "code",
   "execution_count": null,
   "metadata": {},
   "outputs": [],
   "source": [
    "input_file = default_path + 'finland-latest.osm.pbf'\n",
    "\n",
    "sample_cities_gdf = cities_gdf[cities_gdf.Country == 'Finland']\n",
    "display(sample_cities_gdf)\n",
    "\n",
    "get_command_bbox(sample_cities_gdf, input_file)"
   ]
  },
  {
   "cell_type": "markdown",
   "metadata": {},
   "source": [
    "### Czech Republic Cities"
   ]
  },
  {
   "cell_type": "code",
   "execution_count": null,
   "metadata": {},
   "outputs": [],
   "source": [
    "input_file = default_path + 'czech-republic-latest.osm.pbf'\n",
    "\n",
    "sample_cities_gdf = cities_gdf[cities_gdf.Country == 'Czech Republic']\n",
    "display(sample_cities_gdf)\n",
    "\n",
    "get_command_bbox(sample_cities_gdf, input_file)"
   ]
  },
  {
   "cell_type": "markdown",
   "metadata": {},
   "source": [
    "### Switzerland Cities"
   ]
  },
  {
   "cell_type": "code",
   "execution_count": null,
   "metadata": {},
   "outputs": [],
   "source": [
    "input_file = default_path + 'switzerland-latest.osm.pbf'\n",
    "\n",
    "sample_cities_gdf = cities_gdf[cities_gdf.Country == 'Switzerland']\n",
    "display(sample_cities_gdf)\n",
    "\n",
    "get_command_bbox(sample_cities_gdf, input_file)"
   ]
  },
  {
   "cell_type": "markdown",
   "metadata": {},
   "source": [
    "### Bulgaria Cities"
   ]
  },
  {
   "cell_type": "code",
   "execution_count": null,
   "metadata": {},
   "outputs": [],
   "source": [
    "input_file = default_path + 'bulgaria-latest.osm.pbf'\n",
    "\n",
    "sample_cities_gdf = cities_gdf[cities_gdf.Country == 'Bulgaria']\n",
    "display(sample_cities_gdf)\n",
    "\n",
    "get_command_bbox(sample_cities_gdf, input_file)"
   ]
  },
  {
   "cell_type": "markdown",
   "metadata": {},
   "source": [
    "### Belgium Cities"
   ]
  },
  {
   "cell_type": "code",
   "execution_count": null,
   "metadata": {},
   "outputs": [],
   "source": [
    "input_file = default_path + 'belgium-latest.osm.pbf'\n",
    "\n",
    "sample_cities_gdf = cities_gdf[cities_gdf.Country == 'Belgium']\n",
    "display(sample_cities_gdf)\n",
    "\n",
    "get_command_bbox(sample_cities_gdf, input_file)"
   ]
  },
  {
   "cell_type": "markdown",
   "metadata": {},
   "source": [
    "### Austria Cities"
   ]
  },
  {
   "cell_type": "code",
   "execution_count": null,
   "metadata": {},
   "outputs": [],
   "source": [
    "input_file = default_path + 'austria-latest.osm.pbf'\n",
    "\n",
    "sample_cities_gdf = cities_gdf[cities_gdf.Country == 'Austria']\n",
    "display(sample_cities_gdf)\n",
    "\n",
    "get_command_bbox(sample_cities_gdf, input_file)"
   ]
  },
  {
   "cell_type": "markdown",
   "metadata": {},
   "source": [
    "### Germany Cities"
   ]
  },
  {
   "cell_type": "code",
   "execution_count": null,
   "metadata": {},
   "outputs": [],
   "source": [
    "input_file = default_path + 'germany-latest.osm.pbf'\n",
    "\n",
    "sample_cities_gdf = cities_gdf[cities_gdf.Country == 'Germany']\n",
    "display(sample_cities_gdf)\n",
    "\n",
    "get_command_bbox(sample_cities_gdf, input_file)"
   ]
  },
  {
   "cell_type": "markdown",
   "metadata": {},
   "source": [
    "### United Kingdom Cities"
   ]
  },
  {
   "cell_type": "code",
   "execution_count": null,
   "metadata": {},
   "outputs": [],
   "source": [
    "input_file = default_path + 'great-britain-latest.osm.pbf'\n",
    "\n",
    "sample_cities_gdf = cities_gdf[cities_gdf.Country == 'United Kingdom']\n",
    "display(sample_cities_gdf)\n",
    "\n",
    "get_command_bbox(sample_cities_gdf, input_file)"
   ]
  },
  {
   "cell_type": "markdown",
   "metadata": {},
   "source": [
    "### Ireland Cities"
   ]
  },
  {
   "cell_type": "code",
   "execution_count": null,
   "metadata": {},
   "outputs": [],
   "source": [
    "input_file = default_path + 'ireland-and-northern-ireland-latest.osm.pbf'\n",
    "\n",
    "sample_cities_gdf = cities_gdf[cities_gdf.Country == 'Ireland']\n",
    "display(sample_cities_gdf)\n",
    "\n",
    "get_command_bbox(sample_cities_gdf, input_file)"
   ]
  },
  {
   "cell_type": "markdown",
   "metadata": {},
   "source": [
    "### North Macedonia Cities"
   ]
  },
  {
   "cell_type": "code",
   "execution_count": null,
   "metadata": {},
   "outputs": [],
   "source": [
    "input_file = default_path + 'macedonia-latest.osm.pbf'\n",
    "\n",
    "sample_cities_gdf = cities_gdf[cities_gdf.Country == 'North Macedonia']\n",
    "display(sample_cities_gdf)\n",
    "\n",
    "get_command_bbox(sample_cities_gdf, input_file)"
   ]
  },
  {
   "cell_type": "code",
   "execution_count": null,
   "metadata": {},
   "outputs": [],
   "source": []
  }
 ],
 "metadata": {
  "kernelspec": {
   "display_name": "Python 3",
   "language": "python",
   "name": "python3"
  },
  "language_info": {
   "codemirror_mode": {
    "name": "ipython",
    "version": 3
   },
   "file_extension": ".py",
   "mimetype": "text/x-python",
   "name": "python",
   "nbconvert_exporter": "python",
   "pygments_lexer": "ipython3",
   "version": "3.7.4"
  }
 },
 "nbformat": 4,
 "nbformat_minor": 4
}
