{
 "cells": [
  {
   "cell_type": "code",
   "execution_count": null,
   "metadata": {},
   "outputs": [],
   "source": [
    "import folium\n",
    "import json\n",
    "import geopandas as gpd\n",
    "import pandas as pd\n",
    "import random\n",
    "from shapely.geometry import Point, Polygon\n",
    "from tqdm.notebook import trange, tqdm\n",
    "import unidecode"
   ]
  },
  {
   "cell_type": "markdown",
   "metadata": {},
   "source": [
    "Read file containing the cities polygons"
   ]
  },
  {
   "cell_type": "code",
   "execution_count": null,
   "metadata": {},
   "outputs": [],
   "source": [
    "cities_gdf = gpd.read_file(\"cities/Case_studies_limits_final.shp\")"
   ]
  },
  {
   "cell_type": "code",
   "execution_count": null,
   "metadata": {},
   "outputs": [],
   "source": [
    "cities_gdf['Name']"
   ]
  },
  {
   "cell_type": "markdown",
   "metadata": {},
   "source": [
    "Extract the selected entries corresponding to the selected cities"
   ]
  },
  {
   "cell_type": "code",
   "execution_count": null,
   "metadata": {},
   "outputs": [],
   "source": [
    "def generate_random(number, polygon):\n",
    "    points = []\n",
    "    aux = polygon.bounds\n",
    "\n",
    "    minx = aux[0]\n",
    "    miny = aux[1]\n",
    "    maxx = aux[2]\n",
    "    maxy = aux[3]   \n",
    "    \n",
    "    while len(points) < number:\n",
    "        pnt = Point(random.uniform(float(minx), float(maxx)), random.uniform(float(miny), float(maxy)))\n",
    "        if polygon.contains(pnt):#.any():\n",
    "            points.append(pnt)\n",
    "    return points"
   ]
  },
  {
   "cell_type": "code",
   "execution_count": null,
   "metadata": {},
   "outputs": [],
   "source": [
    "NUMBER_OF_POINTS_PER_ZONE = 100000"
   ]
  },
  {
   "cell_type": "code",
   "execution_count": null,
   "metadata": {},
   "outputs": [],
   "source": [
    "for city_idx in trange(12, cities_gdf.shape[0], desc='Cities'): \n",
    "    city = cities_gdf.iloc[city_idx]\n",
    "    \n",
    "    columns = ['point_A', 'point_B']\n",
    "    data = pd.DataFrame(columns=columns)\n",
    "    \n",
    "    for j in trange(NUMBER_OF_POINTS_PER_ZONE, desc='{} Points'.format(city.Name)): \n",
    "        points_or = generate_random(1, city.geometry)[0]\n",
    "        points_de = generate_random(1, city.geometry)[0]\n",
    "\n",
    "        data_row = {}\n",
    "        data_row['point_A'] = [points_or.x, points_or.y]\n",
    "        data_row['point_B'] = [points_de.x, points_de.y]\n",
    "\n",
    "        data = data.append(data_row, ignore_index=True, sort=False)    \n",
    "    \n",
    "    OUTPUT_FILE = 'cities_points/points_{}.csv'.format(unidecode.unidecode(city.Name))\n",
    "    data.to_csv(OUTPUT_FILE)"
   ]
  },
  {
   "cell_type": "code",
   "execution_count": null,
   "metadata": {},
   "outputs": [],
   "source": [
    "m = folium.Map(location=[39, -8], zoom_start=4, tiles='CartoDB positron')\n",
    "\n",
    "\n",
    "sim_geo = gpd.GeoSeries(city['geometry'])\n",
    "geo_j = sim_geo.to_json()\n",
    "geo_j = folium.GeoJson(data=geo_j,\n",
    "                       style_function=lambda x: {'fillColor': 'orange'})\n",
    "geo_j.add_to(m)\n",
    "\n",
    "for _, row in data.iterrows():\n",
    "    #print(row)\n",
    "    folium.Marker([row['point_A'][1], row['point_A'][0]]).add_to(m)\n",
    "\n",
    "m"
   ]
  },
  {
   "cell_type": "code",
   "execution_count": null,
   "metadata": {},
   "outputs": [],
   "source": []
  },
  {
   "cell_type": "code",
   "execution_count": null,
   "metadata": {},
   "outputs": [],
   "source": []
  }
 ],
 "metadata": {
  "kernelspec": {
   "display_name": "Python 3 (ipykernel)",
   "language": "python",
   "name": "python3"
  },
  "language_info": {
   "codemirror_mode": {
    "name": "ipython",
    "version": 3
   },
   "file_extension": ".py",
   "mimetype": "text/x-python",
   "name": "python",
   "nbconvert_exporter": "python",
   "pygments_lexer": "ipython3",
   "version": "3.9.10"
  }
 },
 "nbformat": 4,
 "nbformat_minor": 4
}
